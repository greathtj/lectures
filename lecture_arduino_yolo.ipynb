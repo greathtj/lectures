{
 "cells": [
  {
   "attachments": {},
   "cell_type": "markdown",
   "metadata": {},
   "source": [
    "# Yolo 결과로 Arduino 구동하기"
   ]
  },
  {
   "attachments": {},
   "cell_type": "markdown",
   "metadata": {},
   "source": [
    "## Arduino\n",
    "\n",
    "아두이노는 다양한 프로젝트를 만들고 제어할 수 있는 오픈 소스 전자 플랫폼이다. 마이크로컨트롤러 보드와 그를 프로그래밍하기 위한 개발 환경으로 구성된다. 마이크로컨트롤러는 아두이노 보드의 두뇌로서 명령을 실행하고 외부 세계와 상호작용하는 역할을 담당한다.\n",
    "\n",
    "아두이노의 주요 장점 중 하나는 그 간단함과 사용 편의성으로, 초보자와 전문가 모두에게 접근 가능다는 것이다. 아두이노 프로그래밍 언어는 C/C++의 단순화된 버전인 Wiring을 기반으로 하여, 전자 부품을 제어하기 위한 코드를 배우고 작성하는 것이 아주 쉽다.\n",
    "\n",
    "아두이노를 사용하면 센서, 모터, 라이트 등의 전자 기기를 연결하여 대화형 프로젝트를 만들 수 있다. 코드를 작성하고 아두이노 보드에 업로드함으로써 이러한 기기들을 제어하고 다양한 입력에 대응하거나 특정 작업을 수행하도록 할 수 있다. 로봇을 만들거나 가정 자동화, 웨어러블 기술, 예술 설치물 등을 개발하고자 한다면, 아두이노는 아이디어를 현실로 구현하는 매우 유용한 플랫폼이다.\n",
    "\n",
    "아두이노 보드는 다양한 크기와 형태로 제공되며, 다양한 프로젝트 요구 사항에 맞추어 선택할 수 있다. 배터리로 구동하거나 USB를 통해 컴퓨터에 연결할 수도 있다. 또한 아두이노 보드는 다양한 쉴드와 모듈과 호환되어 있어 기능을 확장하고 다른 기기와 쉽게 연결할 수 있다.\n",
    "\n",
    "아두이노의 오픈 소스 특성으로 인해 다양한 사용자 커뮤니티가 만들어졌으며, 이들은 프로젝트, 지식 및 코드를 공유한다. 다양한 튜토리얼, 예제 및 라이브러리를 온라인에서 찾아볼 수 있어 초보자에게도 학습과 문제 해결이 쉽다. 아두이노는 다양성과 가격 대비 성능이 우수하여 교육 목적, 프로토타이핑 및 거의 모든 취미 프로젝트에 사용되고 있다.\n",
    "\n",
    "<img src=\"images_larduino/capture00.png\" style=\"width:800px\"><br>"
   ]
  },
  {
   "attachments": {},
   "cell_type": "markdown",
   "metadata": {},
   "source": [
    "## Arduino IDE 설치\n",
    "\n",
    "- https://www.arduino.cc 에 접속 \"SOFTWARE\" 탭 클릭\n",
    "\n",
    "<img src=\"images_larduino/capture01.png\" style=\"width:800px\"><br>\n",
    "\n",
    "- 설치하고 arduino ide를 구동합니다. 그리고 보드와 포트를 선택합니다.\n",
    "\n",
    "<img src=\"images_larduino/capture02.png\" style=\"width:800px\"><br>\n",
    "\n",
    "- servo 모터를 구동하는 예제 프로그램을 열어서 연결한 서보모터가 잘 작동하는지 확인합니다.\n",
    "\n",
    "<img src=\"images_larduino/capture04.png\" style=\"width:600px\"><br>\n",
    "\n",
    "<img src=\"images_larduino/capture03.png\" style=\"width:800px\"><br>"
   ]
  },
  {
   "attachments": {},
   "cell_type": "markdown",
   "metadata": {},
   "source": [
    "## Serial port 명령을 통해서 서보모터를 회전시켜 봅시다.\n",
    "\n",
    "<img src=\"images_larduino/capture05.png\" style=\"width:700px\"><br>"
   ]
  },
  {
   "attachments": {},
   "cell_type": "markdown",
   "metadata": {},
   "source": [
    "## 이제 Yolo로 predict한 결과를 해석하고 이걸로 아두이노를 구동해봅시다.\n",
    "\n",
    "- python에서 serial port를 구동하려면 pyserial 라이브러리를 설치해야 합니다.\n",
    "    > pip install pyserial\n",
    "\n",
    "<img src=\"images_larduino/capture06.png\" style=\"width:800px\"><br>\n",
    "\n",
    "- 그리고 기존의 yolo detection 코드를 약간 수정해 줍니다."
   ]
  },
  {
   "cell_type": "code",
   "execution_count": null,
   "metadata": {},
   "outputs": [],
   "source": [
    "import serial\n",
    "\n",
    "\n",
    "from ultralytics import YOLO\n",
    "import cv2\n",
    "from ultralytics.yolo.utils.plotting import Annotator\n",
    "import serial       # 여기 이 줄을 추가!\n",
    "\n",
    "this_serial = serial.Serial('/dev/ttyUSB0', 9600)   # 이 줄도 추가\n",
    "\n",
    "# Load a model\n",
    "# model = YOLO(\"yolov8n.pt\")  # load a pretrained model (recommended for training)\n",
    "model = YOLO(\"runs/detect/train/weights/best.pt\")\n",
    "cap = cv2.VideoCapture(0)\n",
    "\n",
    "while True:\n",
    "    ret, frame = cap.read()\n",
    "    if ret:\n",
    "        img = cv2.cvtColor(frame, cv2.COLOR_BGR2RGB)\n",
    "        results = model.predict(source=img, save=False, show=False, conf=0.3)\n",
    "        for r in results:\n",
    "            boxes = r.boxes\n",
    "            annotator = Annotator(frame)\n",
    "            for box in boxes:\n",
    "                b = box.xyxy[0]  # get box coordinates in (top, left, bottom, right) format\n",
    "                c = box.cls\n",
    "                cnf = box.conf.item()\n",
    "                b_caption = model.names[int(c)] + f\"_({cnf:.2f})\"\n",
    "                annotator.box_label(b, b_caption)\n",
    "\n",
    "            # 이 if 블록 추가\n",
    "            if len(boxes) > 0:      \n",
    "                b = boxes[0]\n",
    "                c = b.cls\n",
    "                angle = int(c)*90\n",
    "                print(angle)\n",
    "                this_serial.write(f\"{angle}\\n\".encode('utf-8'))\n",
    "            # 여기까지\n",
    "\n",
    "        frame = annotator.result() \n",
    "        cv2.imshow(\"yolov8\", frame)\n",
    "\n",
    "        key = cv2.waitKey(1)\n",
    "        if key > 0:\n",
    "            break\n",
    "\n",
    "cap.release()\n",
    "cv2.destroyAllWindows()\n",
    "\n",
    "this_serial.close()"
   ]
  }
 ],
 "metadata": {
  "kernelspec": {
   "display_name": "yv8env",
   "language": "python",
   "name": "python3"
  },
  "language_info": {
   "name": "python",
   "version": "3.11.2"
  },
  "orig_nbformat": 4
 },
 "nbformat": 4,
 "nbformat_minor": 2
}
